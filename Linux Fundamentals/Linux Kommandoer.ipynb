{
 "cells": [
  {
   "cell_type": "markdown",
   "metadata": {},
   "source": [
    "# **inux Kommandoer** 💻\n",
    "Her kommer det en liste over alle Linux kommandoer som man må kunne til eksamen: "
   ]
  },
  {
   "cell_type": "markdown",
   "metadata": {},
   "source": [
    "## **Kommandoer**"
   ]
  },
  {
   "cell_type": "markdown",
   "metadata": {},
   "source": [
    "1. ls /sys/kernel\n",
    "2. ls -a\n",
    "3. ls -l\n",
    "4. ls -help \n",
    "5. cd media\n",
    "5. pwd - den sier hvor du er\n",
    "6. clear\n",
    "7. sudo - super user do \n",
    "8. sudo apt install lolcat \n",
    "9. sudo !! - den kjører forrige kommando som sudo\n",
    "10. su - switch user\n",
    "11. cp Fortelling.txt /etc/\n",
    "    --> permission denied\n",
    "    --> sudo !!\n",
    "\n",
    "12. sudo cp Fortelling.txt /etx/Saga.txt \n",
    "13. ls /etc/ | grep Saga.txt --> grep = global regular expression print\n",
    "14. mv /etx/Saga.txt /home/morten --> move \n",
    "15. mv/Home/mprte/Saga.txt /home/morten/Vise.txt\n",
    "16. mkdir NyMappe --> lager en ny mappe \n",
    "17. mkdir -p /home/moretn/StorMappe/LitenMappe/MiniMappe --> lage mange mapper inni i hverandre\n",
    "18. rmdir ---> remover en mappe \n",
    "19. rm -r -> slette alt som er inne i en mappe \n",
    "20. rmdir \n",
    "21. tree\n",
    "22. tree -a\n",
    "23. cat --> output fra en fil \n",
    "24. ps --> \n",
    "25. ps aux --> viser oss alle prosessene \n",
    "26. cat /etc/passwd | grep kurt --> tar output som er før pipen (tar det som en input)\n",
    "27. cat /etc/passwd | grep -v kurt --> tar output bortsett fra kurt(tar det som en input)\n",
    "28. cat /etc/passwd | grep k\n",
    "29. apt-get update\n",
    "30. apt-get upgrade\n",
    "31. adduser bobby \n",
    "\t---> sudo !!\n",
    "32. usermod --> lar oss endre et par ting på en bruker\n",
    "33. usermod -ag morten bobby\n",
    "34. groupadd Nygruppe\n",
    "        ---> sudo !!\n",
    "35. sudo addgroup Nygruppe2\n",
    "36. chmod u\n",
    "37. chmod g\n",
    "38. chmod o\n",
    "39. chmod ugo \n",
    "40. chmod u=rwx\n",
    "41. chmod u+ \n",
    "42. chmod u-r\n",
    "43. chmod 123\n",
    "44. chmod 354 /home/morten/Fortelling.txt\n",
    "45. chowm home/morten/Fortelling.txt \n",
    "46. chgrp NyGruppe /home/morten/Fortelling.txt\n",
    "\t---> sudo !!\n",
    "47. chown kurt:users /home/morten/Fortelling.txt\n",
    "\t---> sudo !!\n",
    "\n",
    "48. vi --> text editor\n",
    "49. i --> edit mode (for å kunne skrive)\n",
    "50. ESC --> ferdig med edit mode (command mode)\n",
    "51. :q \n",
    "52. nano\n",
    "53. crontab -e \n",
    "54. ps -aux\n",
    "55. kill -9 630\n",
    "\t---> sudo !!"
   ]
  }
 ],
 "metadata": {
  "language_info": {
   "name": "python"
  }
 },
 "nbformat": 4,
 "nbformat_minor": 2
}

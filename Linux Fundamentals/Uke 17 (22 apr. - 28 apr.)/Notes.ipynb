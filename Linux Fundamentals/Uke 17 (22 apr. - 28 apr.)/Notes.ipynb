{
 "cells": [
  {
   "cell_type": "markdown",
   "metadata": {},
   "source": [
    "# **Linux fundamentals**\n",
    "Her kommer litt mer info om Linux Fundamentals \n",
    "\n",
    "## **Dagens tema** 📚\n",
    "* Historie \n",
    "* Open source \n",
    "* Lisensiering \n",
    "* Hva er en *Linux Ditribution*\n",
    "* Hvor brukes Linux \n",
    "* Forksjeller mellom Windows og Linux. \n",
    "\n",
    "\n"
   ]
  },
  {
   "cell_type": "markdown",
   "metadata": {},
   "source": [
    "## **Historie** 📖\n",
    "- Linux er inspirert av Unix \n",
    "- Unix hadde focus på multi-user og multi-tasking \n",
    "- Opprinnelig skrevet i assembly (maskinkode)\n",
    "- Etterhvert ble Unix skrevet i C, og kunne porteres til ulike systemer. \n",
    "- Unix ble utviklet av Bell labs. \n",
    "    * ---> Ble seinere solgt til Novell, og så gitt til Open Group. \n",
    "- Modulært design."
   ]
  },
  {
   "cell_type": "markdown",
   "metadata": {},
   "source": [
    "## **Historie (part 2)** 📖\n",
    "- I 1991 (som 21 åring!) lagde Linus Torvalds den første Linux-versjonen. \n",
    "- Linus ville opprinnelig kallet OSet for \"Freax\"\n",
    "    * (\"free\", \"freak\" and \"X\")\n",
    "- Kjørte opprinnelig kun på intels 80386 CPU, men fikk raskt støtte for \"all\" type hardware. "
   ]
  },
  {
   "cell_type": "markdown",
   "metadata": {},
   "source": [
    "## **Open Source code**\n",
    "- Code review \n",
    "    * Høyere kvalitet \n",
    "    * Tryggere kode \n",
    "    * Sprer kunnskap \n",
    "    * Øker følelsen av eierskap hos de involverte \n",
    "- Code reuse\n",
    "- Fork. "
   ]
  },
  {
   "cell_type": "markdown",
   "metadata": {},
   "source": [
    "## **Free Software Foundation**\n",
    "- Grunnlagt av **Richard Stallman** i 1983. \n",
    "- Sto bak GNU-prosjektet\n",
    "- GNU Compiler Collection (GCC)\n",
    "- GNU Emacs \n",
    "- Bourne-Again Shell (BASH)\n",
    "- Copyleft \n",
    "- \"Free as in speech, not as in beer\"\n",
    "\n",
    "## **The four freedoms**\n",
    "- The freedom to run the program as you wish, for any purpose. \n",
    "- The freedom to study how the program works, and change it so it does your computing as you wish. \n",
    "- The freedom to redistribute copies so you can help others. \n",
    "- The freedom to distribute copies of your modified versions to others."
   ]
  },
  {
   "cell_type": "markdown",
   "metadata": {},
   "source": [
    "## **Licens**\n",
    "- GNU AGPLv3\n",
    "- GNU GPLv3\n",
    "- GNU LGPLv3\n",
    "- Mozilla Public License 2.0\n",
    "- Apache License 2.0\n",
    "- MIT License 2.0 \n",
    "- Boost Software License 1.0\n",
    "- The unlicense\n"
   ]
  },
  {
   "cell_type": "markdown",
   "metadata": {},
   "source": [
    "## **Hva er en Linux \"Distribution\"?**\n",
    "- Felles: Operativ system baser på Linux kernel \n",
    "- Forskjellige løsninger for:\n",
    "    * Package Management system 📦\n",
    "    * Desktop 💻\n",
    "    * Lisensering ©️\n",
    "    * Support ☎️\n",
    "    * Oppdateringsfrekvens. ♾\n",
    "\n",
    "#### **Common Linux Distributions**\n",
    "- Debian \n",
    "- Ubuntu \n",
    "- CentOS\n",
    "- RedHat Enterprise Linux\n",
    "- Arch Linux\n",
    "- SUSE Linux\n",
    "- Android \n",
    "- Kali Linux \n",
    "\n",
    "### **Hvor blir Linux brukt?**\n",
    "- 100% of the worlds supercomputers. \n",
    "- 95% of the servers that run the world's top 1 million domains are powered by Linux. \n",
    "- 90% of all cloud infrastructure operates on Linux and practically all the best cloud hosts use it. \n",
    "- Routere, TVer, selvkjørende biler. \n",
    "- Over 80% of embedded systems (routers, switches, firewalls, refrigerators?)\n",
    "- 85% of all smartphones and mobile devices are based on Linux. \n",
    "\n",
    "### **Differences between Windows and Linux**\n",
    "- No C:\\ drive - Only mount points \n",
    "- Update strategy\n",
    "- Usually free\n",
    "- Root user"
   ]
  },
  {
   "cell_type": "markdown",
   "metadata": {},
   "source": [
    "## **Egenskaper av et Linux-basert operativsystem**\n",
    "#### **1. Bin** (Binaries)\n",
    "Denne mappen inneholder kjørbare filer, altså programmer og applikasjoner som **cat**, **ls**, **ping** og **ifconfig**. Disse er essensielle verktøy for daglig operasjon og systemadministrasjon. "
   ]
  },
  {
   "cell_type": "markdown",
   "metadata": {},
   "source": [
    "#### **2. Sbin** (System binaries)\n",
    "Ligner på **bin** men for systemadministrative eller mer sensitiv programvare som kun systemadministratorer eller avanserte brukere trenger tilgang til. Disse programmene påvirker systemets grunnleggende operasjoner. "
   ]
  },
  {
   "cell_type": "markdown",
   "metadata": {},
   "source": [
    "#### **3. BOOT**\n",
    "Inneholder alt systemet trenger for å starte opp, inkludert bootloaderen. Dette er kritisk for oppstart av systemet, og brukere oppfordres til å være forsiktige med endringer her. "
   ]
  },
  {
   "cell_type": "markdown",
   "metadata": {},
   "source": [
    "#### **4. Dev** (Devices)\n",
    "Representerer hardware-enheter som:\n",
    "* disker\n",
    "* webkameraer \n",
    "* tastaturer\n",
    "* mus\n",
    "\n",
    "Her finner du filsystemgrensesnittene til disse enhetene. "
   ]
  },
  {
   "cell_type": "markdown",
   "metadata": {},
   "source": [
    "#### **5. Etc**\n",
    "Denne mappen inneholder konfigurasjonsfiler for systemet, inkludert passord og brukerinformasjon. Det er en sentral lokasjon for mange av de filene som styrer hvordan Linux-systemet oppfører seg. "
   ]
  },
  {
   "cell_type": "markdown",
   "metadata": {},
   "source": [
    "#### **6. Home**\n",
    "Inneholder personlige filer og instillinger for brukernes desktop-miljøer og applikasjoner. Disse filene er spesifikke for hver bruker og kan enkelt flyttes mellom ulike LINUX-installasjoner. \n"
   ]
  },
  {
   "cell_type": "markdown",
   "metadata": {},
   "source": [
    "#### **7. Lib** (Library)\n",
    "Inneholder biblioteker som kreves av programmene i **bin** for å kjøre. Disse delte bibliotekene er vital for mange av de grunnleggende funksjonenen i programmene. \n",
    "\n"
   ]
  },
  {
   "cell_type": "markdown",
   "metadata": {},
   "source": [
    "#### **8. Mnt og media**\n",
    "**mnt** er for manuelt montert enheter mens **media** er for automatisk monterte enheter. Dette er punkter hvor systemet kan få tilgang til eksterne eller tilleggslagringsenheter. "
   ]
  },
  {
   "cell_type": "markdown",
   "metadata": {},
   "source": [
    "#### **9. Opt** (Optional)\n",
    "Brukes for programvare som ikke er inkludert av systemets standardpakkehåndtering. Dette kan være ting som VPN-programvare eller annen programvare installert fra tredjeleverandører. \n",
    "\n",
    "#### **10. proc**\n",
    "Gir informasjon om systemprosesser og systeminformasjon som CPU-bruk og oppetid, representeres som filer. \n",
    "\n",
    "#### **11. root**\n",
    "Hjemmekatalogen for **root**-brukeren, som er den administrative superbrukeren i et Linux-system. \n",
    "\n",
    "#### **12. run**\n",
    "Inneholder filer som angår systemprosesser som kjører fra oppstart til systemets slås ned, vanligvis lagret i **RAM**. "
   ]
  }
 ],
 "metadata": {
  "language_info": {
   "name": "python"
  }
 },
 "nbformat": 4,
 "nbformat_minor": 2
}

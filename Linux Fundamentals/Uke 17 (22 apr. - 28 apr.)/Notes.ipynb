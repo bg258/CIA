{
 "cells": [
  {
   "cell_type": "markdown",
   "metadata": {},
   "source": [
    "# **Linux fundamentals**\n",
    "Her kommer litt mer info om Linux Fundamentals \n",
    "\n",
    "## **Dagens tema** 📚\n",
    "* Historie \n",
    "* Open source \n",
    "* Lisensiering \n",
    "* Hva er en *Linux Ditribution*\n",
    "* Hvor brukes Linux \n",
    "* Forksjeller mellom Windows og Linux. \n",
    "\n",
    "\n"
   ]
  },
  {
   "cell_type": "markdown",
   "metadata": {},
   "source": [
    "## **Historie** 📖\n",
    "- Linux er inspirert av Unix \n",
    "- Unix hadde focus på multi-user og multi-tasking \n",
    "- Opprinnelig skrevet i assembly (maskinkode)\n",
    "- Etterhvert ble Unix skrevet i C, og kunne porteres til ulike systemer. \n",
    "- Unix ble utviklet av Bell labs. \n",
    "    * ---> Ble seinere solgt til Novell, og så gitt til Open Group. \n",
    "- Modulært design."
   ]
  },
  {
   "cell_type": "markdown",
   "metadata": {},
   "source": [
    "## **Historie (part 2)** 📖\n",
    "- I 1991 (som 21 åring!) lagde Linus Torvalds den første Linux-versjonen. \n",
    "- Linus ville opprinnelig kallet OSet for \"Freax\"\n",
    "    * (\"free\", \"freak\" and \"X\")\n",
    "- Kjørte opprinnelig kun på intels 80386 CPU, men fikk raskt støtte for \"all\" type hardware. "
   ]
  },
  {
   "cell_type": "markdown",
   "metadata": {},
   "source": [
    "## **Open Source code**\n",
    "- Code review \n",
    "    * Høyere kvalitet \n",
    "    * Tryggere kode \n",
    "    * Sprer kunnskap \n",
    "    * Øker følelsen av eierskap hos de involverte \n",
    "- Code reuse\n",
    "- Fork. "
   ]
  },
  {
   "cell_type": "markdown",
   "metadata": {},
   "source": [
    "## **Free Software Foundation**\n",
    "- Grunnlagt av **Richard Stallman** i 1983. \n",
    "- Sto bak GNU-prosjektet\n",
    "- GNU Compiler Collection (GCC)\n",
    "- GNU Emacs \n",
    "- Bourne-Again Shell (BASH)\n",
    "- Copyleft \n",
    "- \"Free as in speech, not as in beer\"\n",
    "\n",
    "## **The four freedoms**\n",
    "- The freedom to run the program as you wish, for any purpose. \n",
    "- The freedom to study how the program works, and change it so it does your computing as you wish. \n",
    "- The freedom to redistribute copies so you can help others. \n",
    "- The freedom to distribute copies of your modified versions to others."
   ]
  },
  {
   "cell_type": "markdown",
   "metadata": {},
   "source": [
    "## **Licens**\n",
    "- GNU AGPLv3\n",
    "- GNU GPLv3\n",
    "- GNU LGPLv3\n",
    "- Mozilla Public License 2.0\n",
    "- Apache License 2.0\n",
    "- MIT License 2.0 \n",
    "- Boost Software License 1.0\n",
    "- The unlicense\n"
   ]
  },
  {
   "cell_type": "markdown",
   "metadata": {},
   "source": [
    "## **Hva er en Linux \"Distribution\"?**\n",
    "- Felles: Operativ system baser på Linux kernel \n",
    "- Forskjellige løsninger for:\n",
    "    * Package Management system 📦\n",
    "    * Desktop 💻\n",
    "    * Lisensering ©️\n",
    "    * Support ☎️\n",
    "    * Oppdateringsfrekvens. ♾\n",
    "\n",
    "#### **Common Linux Distributions**\n",
    "- Debian \n",
    "- Ubuntu \n",
    "- CentOS\n",
    "- RedHat Enterprise Linux\n",
    "- Arch Linux\n",
    "- SUSE Linux\n",
    "- Android \n",
    "- Kali Linux \n",
    "\n",
    "### **Hvor blir Linux brukt?**\n",
    "- 100% of the worlds supercomputers. \n",
    "- 95% of the servers that run the world's top 1 million domains are powered by Linux. \n",
    "- 90% of all cloud infrastructure operates on Linux and practically all the best cloud hosts use it. \n",
    "- Routere, TVer, selvkjørende biler. \n",
    "- Over 80% of embedded systems (routers, switches, firewalls, refrigerators?)\n",
    "- 85% of all smartphones and mobile devices are based on Linux. \n",
    "\n",
    "### **Differences between Windows and Linux**\n",
    "- No C:\\ drive - Only mount points \n",
    "- Update strategy\n",
    "- Usually free\n",
    "- Root user\n",
    "\n"
   ]
  }
 ],
 "metadata": {
  "language_info": {
   "name": "python"
  }
 },
 "nbformat": 4,
 "nbformat_minor": 2
}

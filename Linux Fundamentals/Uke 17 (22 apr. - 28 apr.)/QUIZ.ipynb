{
 "cells": [
  {
   "cell_type": "markdown",
   "metadata": {},
   "source": [
    "# **Quiz Linux (Mandag)** 🎉\n",
    "**1. Hvem var hovedarkitekten bak GNU-prosjektet på 1980-tallet?**\n",
    "* Richard Stallman. \n",
    "\n",
    "**2. En Kernel er:**\n",
    "* Den delen av OSet med høyest rettigheter. \n",
    "\n",
    "**3. Hva har du ikke lov å gjøre med et program med GNU - General Public License?**\n",
    "* Det du **ikke** kan gjøre er å hindre andre i å bruke programmet. \n",
    "* Det du kan for eksempel gjøre er å ta penger for programmet, gjøre endringer i koden eller spre kopier av programmet.\n",
    "\n",
    "**4. Når ble Linux-kjernen først publisert?**\n",
    "* Første Linux kjernen ble publisert i **1991**"
   ]
  }
 ],
 "metadata": {
  "language_info": {
   "name": "python"
  }
 },
 "nbformat": 4,
 "nbformat_minor": 2
}

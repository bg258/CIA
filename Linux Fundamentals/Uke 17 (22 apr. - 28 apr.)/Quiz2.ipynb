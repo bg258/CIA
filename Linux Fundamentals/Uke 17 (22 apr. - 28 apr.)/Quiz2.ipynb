{
 "cells": [
  {
   "cell_type": "markdown",
   "metadata": {},
   "source": [
    "# **Quiz Linux (Fredag)** 🎉\n",
    "#### **1. Hva er en inode?**\n",
    "En inode er et datasett som inneholder metadata om filer. \n",
    "\n",
    "#### **2. Hva er forskjellen mellom en softlink og en hard link?**\n",
    "En softlink tar opp mindre plass en den originale filen. \n",
    "\n",
    "#### **3. En link vil ikke endre seg om den originale filen endres.**\n",
    "True"
   ]
  },
  {
   "cell_type": "markdown",
   "metadata": {},
   "source": [
    "#### **4. Når vil denne cronjoben kjøres? (:*/30 * * * 4-6**)\n",
    "* Riktig svar er: **hvert 30 minutt hver tordag, fredag og lørdag.**\n",
    "\n",
    "**1. Forklaring**\n",
    "Cronjobber defineres i en tabellform hvor hver linje representerer en oppgave og inneholder fem tidsspesifikke felt, etterfulgt av kommandoen som skal utføres: \n",
    "\n",
    "*     *     *     *     *  kommando som skal kjøres\n",
    "┬     ┬     ┬     ┬     ┬\n",
    "│     │     │     │     │\n",
    "│     │     │     │     │\n",
    "│     │     │     │     │\n",
    "│     │     │     │     │\n",
    "│     │     │     │     └───── dag i uken (0 - 7) (Søndag=0 eller 7)\n",
    "│     │     │     └────────── måned (1 - 12)\n",
    "│     │     └─────────────── dag i måneden (1 - 31)\n",
    "│     └──────────────────── time (0 - 23)\n",
    "└───────────────────────── minutt (0 - 59)\n",
    "\n",
    "**2.Tolkning av feltene**\n",
    "* **Minutt:** Angir minuttet av timen jobben skal kjøre (0 til 59)\n",
    "* **Time:** Angir timen jobben skal kjøre (0 til 23)\n",
    "* **Dag i måneden:** Angir dagen i måneden jobben skal kjøre (1 til 31)\n",
    "* **Måned:** Angir måneden jobben skal kjøre (1 til 12)\n",
    "* **Dag i uken:** Angir ukedagen jobben skal kjøre (0 til 7, hvor både 0 og 7 representerer søndag)\n",
    "\n",
    "**3. Bruk av spesialtegn**\n",
    "* **Stjerne (*)**: Står for \"hver\" eller **alle**. For eksempel, en stjerne i \"time\"-feltet betyr \"hver time\". \n",
    "* **Skjæring (/)**: Brukes for å spesifisere intervaller. For eksempel, \"*/15\" i \"minutt\"-feltet betyr \"hvert 15-minutt\"\n",
    "* **Bindestrekk (-)**: Angir et rekkevide av verdier. For eksempel, \"1-5\" i \"dag i uken\" - feltet betyr \"mandag til fredag\"\n",
    "* **Komma (,)**: Separerer flere forskjellige verdier. For eksempel \"3,5\" i \"måned\"-feltet betyr \"mars og mai\"\n",
    "\n",
    "For å forstå og finne ut når en cronjob vil kjøre basert på dens spesifikasjon, er det viktig å ha en god forståelse av hvordan de forskjellige feltene i en cron-tabell fungerer og hvordan de interagerer med hverandre. Her er et trinn-for-trinn gjennomgang av hvordan du tolker hvert felt i en cronjob:\n",
    "\n",
    "\n",
    "**4. Eksempler**\n",
    "For å anvende denne kunnskapen, la oss si at du ser en cronjob definert som:\n",
    "\n",
    "```\n",
    "*/10 14 * * 1-5  /usr/bin/python /home/user/script.py\n",
    "```\n",
    "\n",
    "- **Minutt**: `*/10` (Hvert tiende minutt)\n",
    "- **Time**: `14` (Klokken 14, dvs. 2 om ettermiddagen)\n",
    "- **Dag i måneden**: `*` (Hver dag)\n",
    "- **Måned**: `*` (Hver måned)\n",
    "- **Dag i uken**: `1-5` (Mandag til fredag)\n",
    "\n",
    "**Tolkning**: Denne jobben vil kjøre scriptet `/home/user/script.py` hvert tiende minutt mellom kl. 14:00 og 14:59, mandag til fredag.\n",
    "\n",
    "Ved å følge disse stegene kan du tolke og forstå planleggingen av nesten hvilken som helst cronjob."
   ]
  },
  {
   "cell_type": "markdown",
   "metadata": {},
   "source": [
    "#### **5. Hva gjør denne kommandoen? (: kill -9 10)**\n",
    "* Denne kommandoen dreper prosessen med *pid 10*"
   ]
  }
 ],
 "metadata": {
  "language_info": {
   "name": "python"
  }
 },
 "nbformat": 4,
 "nbformat_minor": 2
}

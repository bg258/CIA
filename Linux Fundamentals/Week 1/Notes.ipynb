{
 "cells": [
  {
   "cell_type": "markdown",
   "metadata": {},
   "source": [
    "# **Linux fundamentals**\n",
    "Her kommer litt mer info om Linux Fundamentals \n",
    "\n",
    "## **Dagens tema** 📚\n",
    "* Historie \n",
    "* Open source \n",
    "* Lisensiering \n",
    "* Hva er en *Linux Ditribution*\n",
    "* Hvor brukes Linux \n",
    "* Forksjeller mellom Windows og Linux. \n",
    "\n",
    "\n"
   ]
  },
  {
   "cell_type": "markdown",
   "metadata": {},
   "source": [
    "## **Historie** 📖\n",
    "- Linux er inspirert av Unix \n",
    "- Unix hadde focus på multi-user og multi-tasking \n",
    "- Opprinnelig skrevet i assembly (maskinkode)\n",
    "- Etterhvert ble Unix skrevet i C, og kunne porteres til ulike systemer. \n",
    "- Unix ble utviklet av Bell labs. \n",
    "    * ---> Ble seinere solgt til Novell, og så gitt til Open Group. \n",
    "- Modulært design."
   ]
  },
  {
   "cell_type": "markdown",
   "metadata": {},
   "source": [
    "## **Historie (part 2)** 📖\n",
    "- I 1991 (som 21 åring!) lagde Linus Torvalds den første Linux-versjonen. \n",
    "- Linus ville opprinnelig kallet OSet for \"Freax\"\n",
    "    * (\"free\", \"freak\" and \"X\")\n",
    "- Kjørte opprinnelig kun på intels 80386 CPU, men fikk raskt støtte for \"all\" type hardware. "
   ]
  },
  {
   "cell_type": "markdown",
   "metadata": {},
   "source": [
    "## **Open Source code**\n",
    "- Code review \n",
    "    * Høyere kvalitet \n",
    "    * Tryggere kode \n",
    "    * Sprer kunnskap \n",
    "    * Øker følelsen av eierskap hos de involverte \n",
    "- Code reuse\n",
    "- Fork. "
   ]
  }
 ],
 "metadata": {
  "language_info": {
   "name": "python"
  }
 },
 "nbformat": 4,
 "nbformat_minor": 2
}

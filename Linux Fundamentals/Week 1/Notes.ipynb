{
 "cells": [
  {
   "cell_type": "markdown",
   "metadata": {},
   "source": [
    "# **Linux fundamentals**\n",
    "Her kommer litt mer info om Linux Fundamentals \n",
    "\n",
    "## **Dagens tema** 📚\n",
    "* Historie \n",
    "* Open source \n",
    "* Lisensiering \n",
    "* Hva er en *Linux Ditribution*\n",
    "* Hvor brukes Linux \n",
    "* Forksjeller mellom Windows og Linux. \n",
    "\n",
    "\n"
   ]
  },
  {
   "cell_type": "markdown",
   "metadata": {},
   "source": [
    "## **Historie** 📖\n",
    "- Linux er inspirert av Unix \n",
    "- Unix hadde focus på multi-user og multi-tasking \n",
    "- Opprinnelig skrevet i assembly (maskinkode)\n",
    "- Etterhvert ble Unix skrevet i C, og kunne porteres til ulike systemer. \n",
    "- Unix ble utviklet av Bell labs. \n",
    "    * ---> Ble seinere solgt til Novell, og så gitt til Open Group. \n",
    "- Modulært design."
   ]
  }
 ],
 "metadata": {
  "language_info": {
   "name": "python"
  }
 },
 "nbformat": 4,
 "nbformat_minor": 2
}

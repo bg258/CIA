{
 "cells": [
  {
   "cell_type": "markdown",
   "metadata": {},
   "source": [
    "# **ITIL Foundations**\n",
    "### **1.Hva er ITIL?**\n",
    "* ITIL står for \"IT Infrastructure Library\" og er et rammerverk for IT-tjenestestyring (ITSM). Det brukes for å hjelpe organisasjoner med å skaper verdi gjennom tjenesteleveranser. \n",
    "\n",
    "**Kjennetegn**:\n",
    "* Leverandøruavhengig\n",
    "* Beste praksis (best practice)\n",
    "* Tilpasninsdyktig\n",
    "* Fokus på verdiskapning (value)\n",
    "\n",
    "### **2. ITIL Service Value System (SVS)\n",
    "**Komponenter**\n",
    "* Service Value Chain: Hvordan tjenester skapes og leveres.\n",
    "* Guiding principles: Veilende prinsipper for beslutninger og handlinger. \n",
    "* Governance: Hvordan organisasjoner kontrollerer sine aktiviteter. \n",
    "* Continual improvement: Fokus på kontinuerlig forbedring. \n",
    "* Practices: Beste praksiser innen tjenestestyring.\n",
    "\n",
    "### **3.Fire dimensjoner av tjenestestyring**\n",
    "* Organisasjoner og mennesker\n",
    "    * Klare roller, ansvar og kultur. \n",
    "    * Fokus på ledere og ferdigheter. \n",
    "* Informasjon og teknologi \n",
    "    * Bruk av teknologi og data for å støtte tjenester. \n",
    "* Partnere og leverandører\n",
    "    * Samarbeid for å nå mål.\n",
    "* Verdistrømmer og prosesser \n",
    "    * Aktiviteter som transformerer ressurser til verdi. \n",
    "\n",
    "### **4. Viktige begreper i ITIL:**\n",
    "* **Value:** Oppfattede fordeler og viktighet for kunden. \n",
    "* **Service:** En måte å skape verdi uten at kunden må håndtere spesifikke kostnader og risikoer. \n",
    "* **Utility og Warranty:**\n",
    "    * **Utility:** Hva tjenesten gjør \n",
    "    * **Warranty:** Hvordan tjenesten fungerer.\n",
    "\n",
    "## **Sammendrag av dokumentet** \n",
    "**ITIL Foundation 4** er et rammeverk designet for å hjelpe organisasjoner med å levere tjenester som gir verdi til kunder og interessenter. Det sentrale fokuset er på verdiskapning gjennom fire dimensjoner: \n",
    "* Organisasjon og mennesker \n",
    "* Informasjon og teknoologi\n",
    "* Partnere og leverandører \n",
    "* Verdistrømmer og prosesser. \n",
    "\n",
    "Rammeverket inkluderer prinsipper for styring, kontinuerlig forbedring, og beste praksis. "
   ]
  }
 ],
 "metadata": {
  "language_info": {
   "name": "python"
  }
 },
 "nbformat": 4,
 "nbformat_minor": 2
}

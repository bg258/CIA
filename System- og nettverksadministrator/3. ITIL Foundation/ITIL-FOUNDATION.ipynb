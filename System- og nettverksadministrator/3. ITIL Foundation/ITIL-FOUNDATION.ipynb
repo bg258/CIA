{
 "cells": [
  {
   "cell_type": "markdown",
   "metadata": {},
   "source": [
    "# **ITIL® 4 Foundation Exam Preparation Training**"
   ]
  },
  {
   "cell_type": "markdown",
   "metadata": {},
   "source": [
    "## **Introduction**\n",
    "* Key-Concepts and Definitions (5)\n",
    "* The 4 dimensions (2)\n",
    "* The Service Value System (1)\n",
    "* The Guiding Principles (6)\n",
    "* The Service Value Chain (2)\n",
    "* Most important practices (19)\n",
    "* Other examinable practices (5)"
   ]
  },
  {
   "cell_type": "markdown",
   "metadata": {},
   "source": [
    "## **Key-Concepts and Definitions 1**\n",
    "* **Service Management:** A set of specialized organizational capabilities for enabling value to customers in the form of services. \n",
    "* **Value:** The percieved benefits, usefulness and importance of something. \n",
    "* **Customer:** Defines the requirements for the different services. \n",
    "* **User:** A person who uses the service \n",
    "* **Sponsor:** Authorizes budgets for services\n",
    "* **Supplier:** External partner who provides services to the organization \n",
    "* **Organization:** A group of people that has its own functions, responsibilities and authorities to achieve specific objectives. "
   ]
  },
  {
   "cell_type": "markdown",
   "metadata": {},
   "source": [
    "## **Key-Concepts and Definitions 2**\n",
    "* **Service:** The means of enabling value co-creation by facilitating outcomes that customers want to achieve without having to manage specific costs and risks. \n",
    "* **Product:** A configuration of resources, created by the organization, that will be potentially valuable to customers. \n",
    "* **Service offering:** A speficic mix of services and products sold to a specific customer. \n",
    "    * Goods: ownership is transferred to customer \n",
    "    * Access to resources: customer is allowed to use it\n",
    "    * Service actions: things the service prodider does for the customer. "
   ]
  }
 ],
 "metadata": {
  "language_info": {
   "name": "python"
  }
 },
 "nbformat": 4,
 "nbformat_minor": 2
}

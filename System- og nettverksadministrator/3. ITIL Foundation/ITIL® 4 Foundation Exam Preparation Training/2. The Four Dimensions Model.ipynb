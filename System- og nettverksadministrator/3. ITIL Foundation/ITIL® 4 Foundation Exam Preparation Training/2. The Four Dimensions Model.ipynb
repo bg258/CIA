{
 "cells": [
  {
   "cell_type": "markdown",
   "metadata": {},
   "source": [
    "# **The Four Dimensions Model**\n",
    "The four dimensions are: \n",
    "1. Organisations and people\n",
    "2. Information and tehcnology \n",
    "3. Partners and suppliers \n",
    "4. Value streams and processes. \n",
    "\n",
    "![four_dimensions](images/the_four_dimension_model.png)\n",
    "\n",
    "* **VOIP**: can be influenced by the organization \n",
    "* **PESTLE:** external factors, that cannot be influenced but need to be considered. \n",
    "    * Political \n",
    "    * Economical \n",
    "    * Social \n",
    "    * Technological \n",
    "    * Legal \n",
    "    * Environmental \n"
   ]
  },
  {
   "cell_type": "markdown",
   "metadata": {},
   "source": [
    "## **The Four Dimensions Model Details**\n",
    "**The 4 Dimensions**\n",
    "![4_th](imageS/4_dimensions.png)\n",
    "\n",
    "**1. Value streams and processes** <br>\n",
    "**Hva det handler om:** Dette dekker de aktivitetene organisasjonen gjennomfører for å levere verdier til interessenter.<br>\n",
    "**Nøkkelområder:**\n",
    "* Organisering av aktiviteter. \n",
    "* Sikring av verdi for interessenter\n",
    "* Bruk av verktøy som verdistrømskartlegging for å forstå og optimalisere prosesser. \n",
    "\n",
    "\n",
    "**2. Organizations and people** <br>\n",
    "**Hva det handler om:** Fokus på strukturene og menneskene i organisasjonen. <br>\n",
    "**Nøkkelområder:**\n",
    "* organisasjonstrukturer. \n",
    "* beslutningsprosesser og vaner. \n",
    "* Krav til kompetanse og bemanning \n",
    "* Organisasjonskultur og ledelsesstiler\n",
    "\n",
    "**3. Information and Technology** <br>\n",
    "**Hva det handler om:** Håndtering av informasjon og teknologisk innovasjon for å støtte organisasjonens mål. <br>\n",
    "**Nøkkelområder:** \n",
    "* Identikasjon av nødvendig verktøy og informasjon\n",
    "* Innovasjon og teknologisk anvendelse. \n",
    "* Relasjoner mellom systemkomponenter. \n",
    "* En kultur mellom systemkomponenter. \n",
    "\n",
    "\n",
    "**4. Partners and suppliers**\n",
    "**Hva det handler om:** Samarbeid med eksterne parter for å oppnå organisasjonens mål. <br>\n",
    "**Nøkkelområder:**\n",
    "* Forholdet til leverandører.\n",
    "* Faktorer som påvirker leverandørenes strategier.\n",
    "* Integrasjon og styring av tjenester levert av partnere.\n",
    "* Prosesser for valg av leverandører."
   ]
  },
  {
   "cell_type": "markdown",
   "metadata": {},
   "source": [
    "## **Summary**\n",
    "**VOIP**\n",
    "* **V**alue streans & processes. \n",
    "* **O**rganizations and people. \n",
    "* **I**nformation and technology. \n",
    "* **P**artners and suppliers\n",
    "\n",
    "**PESTLE**\n",
    "* **P**olitical\n",
    "* **E**conomical\n",
    "* **S**ocial \n",
    "* **T**echnological \n",
    "* **L**egal \n",
    "* **E**nviromental \n",
    "\n"
   ]
  }
 ],
 "metadata": {
  "language_info": {
   "name": "python"
  }
 },
 "nbformat": 4,
 "nbformat_minor": 2
}

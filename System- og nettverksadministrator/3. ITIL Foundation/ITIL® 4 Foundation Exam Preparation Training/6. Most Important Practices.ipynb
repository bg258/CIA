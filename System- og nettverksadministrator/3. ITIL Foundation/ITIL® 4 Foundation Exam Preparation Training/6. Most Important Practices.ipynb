{
 "cells": [
  {
   "cell_type": "markdown",
   "metadata": {},
   "source": [
    "# **The Most Important Practices Overview**\n",
    "A practice is a set of organizational resources designed to perform work or accomplish and objective. \n",
    "\n",
    "![practices](imageS/practices.png)\n"
   ]
  },
  {
   "cell_type": "markdown",
   "metadata": {},
   "source": [
    "## **Continual Improvement as a practice**\n",
    "* Continual improvement happens everywhere in the organization (SVS, SVC, Practices)\n",
    "* ideas need to be reprioritized when new ones are added. \n",
    "* it is a responsability of everyone. \n",
    "* organizations may have a continual improvement team for better coordination. \n",
    "* All 4 dimensions need to be considered  during any improvement initiative. \n",
    "\n",
    "![improvement](images/continual_improvement.png)"
   ]
  },
  {
   "cell_type": "markdown",
   "metadata": {},
   "source": [
    "# **Practices**\n"
   ]
  },
  {
   "cell_type": "markdown",
   "metadata": {},
   "source": [
    "# **Change Enablement Practice**<br>\n",
    "**Purpose:** maximize the number of succesful changes through proper risk assesment and minimize the negative impact of failed changes. \n",
    "\n",
    "**Types:**\n",
    "* **Standard:** pre-authorized, low risk, low cost, basically service requests. \n",
    "* **Normal:** authorization depens on what kind of change it is. goes through the normal change workflow. \n",
    "* **emergency:** needs rapid action. may have a separate change authority."
   ]
  },
  {
   "cell_type": "markdown",
   "metadata": {},
   "source": [
    "# **Incident management**\n",
    "**Purpose:** minimize negative impact of incidents by restoring normal operation as soon as possible. <br>\n",
    "**Incident:** unplanned interruption or reduction of quality. Must be logged, prioritized and managed through their lifecycle. uses same categorization as problem tickets. swarming may help with complex issues. <br>\n",
    "**Major incidents:** need a separate procedure. swarming can be used for quicker solutions. "
   ]
  },
  {
   "cell_type": "markdown",
   "metadata": {},
   "source": [
    "# **Problem management**\n",
    "\n",
    "**purpose:** reduce likelihood of recurring incidents by identifying root causes and eliminating those. <b>\n",
    "**problem:** unknown cause of one or more incidents. <br>\n",
    "**known error:** a problem with a known root case but no solution yet. <br>\n",
    "**workaround:** alternate solution, reducing the impact of the problem. \n",
    "\n",
    "**phases:** problem identification > problem control > error control. "
   ]
  },
  {
   "cell_type": "markdown",
   "metadata": {},
   "source": [
    "# **Service Desk Practice**\n",
    "\n",
    "**Purpose:** capture demand for incidents and service requests. Single point of contact between service provider and users. \n",
    "\n",
    "**Channels:**\n",
    "* Email\n",
    "* Phone\n",
    "* Chat \n",
    "* Self-service \n",
    "* Text messaging \n",
    "* Forums \n",
    "\n",
    "**Skills:**\n",
    "* incident analysis and prioritization \n",
    "* effective communication \n",
    "* emotional intelligence \n",
    "* excellent customer service skills. "
   ]
  },
  {
   "cell_type": "markdown",
   "metadata": {},
   "source": [
    "# **Service Level Management**  \n",
    "\n",
    "**Purpose:** to set clear business-based targets for service performance, so that the delivery of a service can be measured properly. \n",
    "\n",
    "**SLA:** Agreement between customer and service provider. \n",
    "**OLA:** Agreement between different units of the same organization. \n",
    "**UC:** Agreement between service provider and external supplier. \n",
    "\n",
    "**Recommendations**\n",
    "* Clear language, no jargon \n",
    "* Simply written, easy to undertand. \n",
    "* Should relate to defined outcomes. \n",
    "* listen actively to customer needs. "
   ]
  },
  {
   "cell_type": "markdown",
   "metadata": {},
   "source": [
    "# **Service Request Management**\n",
    "\n",
    "**Purpose:** to support the agreed quality of services by handling all pre-defined, user-initiated service requests. <br>\n",
    "**Service request:** a formal request for something other than incident resolution (). \n",
    "* E.g: information, advice, how-to-questions. \n",
    "\n",
    "steps to fulfill requests should be well known ---> when defining new workflows, try to reuse already existing ones. User expectations must be managed in regars of what can be delivered. "
   ]
  },
  {
   "cell_type": "markdown",
   "metadata": {},
   "source": [
    "![summary](images/summary.png)"
   ]
  }
 ],
 "metadata": {
  "language_info": {
   "name": "python"
  }
 },
 "nbformat": 4,
 "nbformat_minor": 2
}

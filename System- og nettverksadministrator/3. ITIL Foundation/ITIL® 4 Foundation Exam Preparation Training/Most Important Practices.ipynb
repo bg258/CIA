{
 "cells": [
  {
   "cell_type": "markdown",
   "metadata": {},
   "source": [
    "# **The Most Important Practices Overview**\n",
    "A practice is a set of organizational resources designed to perform work or accomplish and objective. \n",
    "\n",
    "![practices](imageS/practices.png)\n"
   ]
  },
  {
   "cell_type": "markdown",
   "metadata": {},
   "source": [
    "## **Continual Improvement as a practice**\n",
    "* Continual improvement happens everywhere in the organization (SVS, SVC, Practices)\n",
    "* ideas need to be reprioritized when new ones are added. \n",
    "* it is a responsability of everyone. \n",
    "* organizations may have a continual improvement team for better coordination. \n",
    "* All 4 dimensions need to be considered  during any improvement initiative. \n",
    "\n",
    "![improvement](images/continual_improvement.png)"
   ]
  },
  {
   "cell_type": "markdown",
   "metadata": {},
   "source": [
    "# **Practices**\n"
   ]
  },
  {
   "cell_type": "markdown",
   "metadata": {},
   "source": [
    "# **Change Enablement Practice**<br>\n",
    "**Purpose:** maximize the number of succesful changes through proper risk assesment and minimize the negative impact of failed changes. \n",
    "\n",
    "**Types:**\n",
    "* **Standard:** pre-authorized, low risk, low cost, basically service requests. \n",
    "* **Normal:** authorization depens on what kind of change it is. goes through the normal change workflow. \n",
    "* **emergency:** needs rapid action. may have a separate change authority."
   ]
  },
  {
   "cell_type": "markdown",
   "metadata": {},
   "source": [
    "# **Incident management**\n",
    "**Purpose:** minimize negative impact of incidents by restoring normal operation as soon as possible. <br>\n",
    "**Incident:** unplanned interruption or reduction of quality. Must be logged, prioritized and managed through their lifecycle. uses same categorization as problem tickets. swarming may help with complex issues. <br>\n",
    "**Major incidents:** need a separate procedure. swarming can be used for quicker solutions. "
   ]
  }
 ],
 "metadata": {
  "language_info": {
   "name": "python"
  }
 },
 "nbformat": 4,
 "nbformat_minor": 2
}

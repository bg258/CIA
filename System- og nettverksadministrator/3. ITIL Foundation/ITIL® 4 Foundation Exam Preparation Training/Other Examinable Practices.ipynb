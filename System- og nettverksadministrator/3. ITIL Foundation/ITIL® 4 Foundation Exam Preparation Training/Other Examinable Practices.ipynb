{
 "cells": [
  {
   "cell_type": "markdown",
   "metadata": {},
   "source": [
    "# **Other examinable practices** \n",
    "There are three main categories:\n",
    "\n",
    "**Information Security Management**<br>\n",
    "Protects information needed by the organizations to conduct business. \n",
    "Ensures appropiate levels of:\n",
    "* Confidentiality \n",
    "* Integrity \n",
    "* Availability \n",
    "* Authentication \n",
    "* Non-repudiation. \n",
    "\n",
    "**Relationship Management** <br>\n",
    "Establishes and nurtures links between organizations and stakeholders at stratetig and tactical levels. <br>\n",
    "Makes sure we find the best possible ways to communicate and collaborate with different internal and external stakeholders. \n",
    "\n",
    "Relationships are identified -> Analyzed -> Monitored -> Improved \n",
    "\n",
    "**Supplier Management** <br>\n",
    "Ensures that suppliers of the organization and their performances are managed to support seamless service provision to customers. The goal is to make sure \"we get what we paid for\" from our vendors and suppliers. Agreements and contracts are made in the form of UCs. (Underpinning contracts). \n",
    "\n",
    "**IT Asset Management** <br>\n",
    "Plans and manages the full lifecycle of IT assets to:\n",
    "* Maximize their value \n",
    "* Control their costs\n",
    "* Support decisions about reusing or purchasing new assets. \n",
    "\n",
    "**IT ASSET:** any financially valuable component that can contribute to the delivery of IT products or services. \n",
    "\n",
    "**Monitoring & Event Management** <br>\n",
    "Observes services and components and records changes in their state. Identifies those events, categorizes them and establish standard responses. \n",
    "* **Event:** any change of state that has a significance for the management of a configuration item or service. \n",
    "* **Types:**\n",
    "    * Informational\n",
    "    * Warning \n",
    "    * Exception \n",
    "\n",
    "**Release Management** <br>\n",
    "Makes new and changed services and features available for use. \n",
    "* **Release:** a version of a service or other configuration items, or a collection of configuration items, that is made available for use. Releases have been disconnected from deployments with canary / dark releases. \n",
    "\n",
    "**Service Configuration Management** <br>\n",
    "Ensures accurate information is available when needed about services, configuration items and their relationships. \n",
    "* **CI (Configuration item):** any component that needs to be managed to deliver an IT service. \n",
    "* **CMDB (Configuration Management Database):** a database or collection of databases holding CIs and their connections. \n",
    "* **CMS (Configuration Management systems):** a frontend / user interface for CMDBs. \n",
    "\n",
    "**Deployment Management** <br>\n",
    "Moves new or changed hardware, software documentation or any other components from one environment to the next. With the help of DevOps, we can reach continous delivery, where the developer build the change in the DEV, which is automatically tested and moved to the next environment until it arrives in PROD. \n",
    "\n",
    "**Deployment** is not the same as **Release**"
   ]
  }
 ],
 "metadata": {
  "language_info": {
   "name": "python"
  }
 },
 "nbformat": 4,
 "nbformat_minor": 2
}

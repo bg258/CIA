{
 "cells": [
  {
   "cell_type": "markdown",
   "metadata": {},
   "source": [
    "# **The Service Value System**\n",
    "You can think of it as a reciepe: \n",
    "\n",
    "1. **Guiding principles** <br>\n",
    "\n",
    "A set of universal and enduring recommendations that guide an organization that guide an organization in all circumstances, regardless of changes in its goals, strategies, or management structure. <br>\n",
    "**Examples of guiding principles include:**\n",
    "* Focus on **value**.\n",
    "* Start where you are. \n",
    "* Collaborate and promote visibility \n",
    "* Think and work holistically \n",
    "* Keep it simple and practical. \n",
    "* Optimize and automate. \n",
    "\n",
    "2. **Governance**\n",
    "- The way an organization is directed and controlled. \n",
    "- Governance ensures that policies, processes, and decisions are aligned with the organization's strategy and objectives. \n",
    "\n",
    "3. **Service Value Chain (SVC)**\n",
    "* The central element of the SVS, which represent the activities an organization performs to create value. \n",
    "* Core activities include: \n",
    "    * **Plan:** Ensures a shared understanding of the vision and current status. \n",
    "    * **Improve:** Enhaces services, products, and processes. \n",
    "    * **Engage:** Interacts with stakeholders to understand needs and expectations. \n",
    "    * **Design and Transitions:** Ensures new or changed services meet stakeholder expectations. \n",
    "    * **Obtain/Build:** Ensures service components are available where needed\n",
    "    * **Deliver and support:** Ensures services are delivered according to agreed specifications. \n",
    "\n",
    "\n",
    "4. **Practices**\n",
    "* These are organizational resources designed to perform work or accomplish objectives. \n",
    "* ITIL defines 34 practices, such as:\n",
    "    * incident management \n",
    "    * change enablement \n",
    "    * problem management \n",
    "    * service level management \n",
    "\n",
    "5. **Continual improvement**\n",
    "* A constant process that ensures the organization is always enhacing its services, products, and practices. \n",
    "* This involves identyfing and making incremental improvements to services or eliminating waste in processes. \n",
    "\n",
    "6. **Opportunity, Demand and value**\n",
    "* The **SVS** begins and ends with oppurtinity and demand from stakeholders and focuses on creating value for them.\n",
    "\n",
    "**How SVS Works:** <br>\n",
    "The components of the SVS are interrelated and integrated to enable the organization to create value continuously. The SVS is adaptable and ensures flexibility to respond to changing circumstances while maintaining a focus on delivering value to stakeholders.\n",
    "\n",
    "\n",
    "![svs](images/svs.png)\n",
    "\n",
    "\n"
   ]
  }
 ],
 "metadata": {
  "language_info": {
   "name": "python"
  }
 },
 "nbformat": 4,
 "nbformat_minor": 2
}

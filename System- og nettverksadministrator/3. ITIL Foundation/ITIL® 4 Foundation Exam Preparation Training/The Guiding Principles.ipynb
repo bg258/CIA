{
 "cells": [
  {
   "cell_type": "markdown",
   "metadata": {},
   "source": [
    "# **The Guiding Principles**\n",
    "Recommendations that guide organizations in any circumstances, even for implementing ITIL 4. \n",
    "\n",
    "1. **Focus on value** <br>\n",
    "Everything you do must be somehow (directly or indirectly) valuable to your stakeholders. \n",
    "\n",
    "2. **Start where you are** <br>\n",
    "Reusing existing resources whenever possible instead of reinventing the wheel over and over again. \n",
    "\n",
    "3. **Progres iteratively with feedback** <br>\n",
    "Do not do everything at once, take baby-steps instead. Learning by doing with lots of feedback. \n",
    "\n",
    "4. **Collaborate and promote visibility** <br>\n",
    "Involve the right people at the right time and gather factual data to make the right decisions. \n",
    "    - Kanvan board \n",
    "    - Skrum master\n",
    "\n",
    "5. **Think and work hollistically** <br>\n",
    "Nothing is ever alone, think about the effect of your initiative or work on other components.\n",
    "\n",
    "6. **Keep it simple and practical** <br>\n",
    "Do not overcomplicate work. Use the least possible steps. Outcome based thinking helps. \n",
    "\n",
    "7. **Optimize and automate** <br>\n",
    "Maximize the value of human work. Automate only after optimization. Apply Devops. \n"
   ]
  },
  {
   "cell_type": "markdown",
   "metadata": {},
   "source": [
    "## **Summary**\n",
    "* Universally applicable to any work or initiative \n",
    "* represent well-proven, good practice \n",
    "* are neither prescriptive nor a must. \n",
    "* can be applied stand-alone but are better in conjuction \n",
    "* have a strong relation to LEAN-AGILE thinking. "
   ]
  }
 ],
 "metadata": {
  "language_info": {
   "name": "python"
  }
 },
 "nbformat": 4,
 "nbformat_minor": 2
}

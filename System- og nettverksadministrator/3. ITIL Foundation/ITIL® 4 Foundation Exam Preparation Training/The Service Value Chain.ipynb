{
 "cells": [
  {
   "cell_type": "markdown",
   "metadata": {},
   "source": [
    "# **The Service Value Chain**\n",
    "The service value chain transforms demand into actual value. \n",
    "Demand ---> Value\n",
    "\n",
    "**Value stream:**<br>\n",
    "* a series of steps and organization takes to co-create value with customers. \n",
    "* these steps can be mapped to the SVC in any combination. \n",
    "    * E.g: Handling of incidents or developing new applications. \n",
    "\n",
    "![svc](images/svc.png)"
   ]
  },
  {
   "cell_type": "markdown",
   "metadata": {},
   "source": [
    "## **The Service Value Chain Activities a.k.a. PIEDOD**\n",
    "**P** (Plan) - Ensures shared understanding of vision, current status and direction. <br>\n",
    "**I** (Improve) - Continual improvement of products and services. <br>\n",
    "**E** (Engange) - Understand stakeholder needs and demands. <br>\n",
    "**D** (Design/Transition) - Make sure that the services meet stakeholder needs. <br>\n",
    "**O** (Obtain/Build) - Ensure components are available when needed <br>\n",
    "**D** (Deliver/Support) - Ensure SLA conform service delivery <br>\n"
   ]
  },
  {
   "cell_type": "markdown",
   "metadata": {},
   "source": [
    "## **Value Stream Example - Bank Loan**\n",
    "![svc_loan](images/svc_example.png)"
   ]
  },
  {
   "cell_type": "markdown",
   "metadata": {},
   "source": [
    "## **Summary**\n",
    "**PIEDOD**\n",
    "1. Plan\n",
    "2. Improve\n",
    "3. Engage\n",
    "4. Design/Transition\n",
    "5. Obtain/Build\n",
    "6. Deliver and Support \n",
    "\n",
    "--- \n",
    "\n",
    "- It is an operating model \n",
    "- Outlines activities needed to transform demand into value. \n",
    "- Universally applicable \n",
    "- Can be used for mapping value streams. \n",
    "- Practices includes specific sequences of SVC activities. "
   ]
  }
 ],
 "metadata": {
  "language_info": {
   "name": "python"
  }
 },
 "nbformat": 4,
 "nbformat_minor": 2
}
